{
 "cells": [
  {
   "cell_type": "markdown",
   "id": "05b2a7f1",
   "metadata": {},
   "source": [
    "# Profiles of cost-effective applications"
   ]
  },
  {
   "cell_type": "markdown",
   "id": "9b46f464",
   "metadata": {},
   "source": [
    "Our goal in this project is to find profitable mobile application profiles for the App Store and Google Play markets. We work as data analysts for a company that builds Android and iOS mobile apps, and our job is to enable our team of developers to make data-driven decisions about what kind of apps we want. they create.\n",
    "\n",
    "In our company, we only develop apps that are free to download and install, and our main source of revenue is from in-app ads. This means that our revenue for a given application is mainly influenced by the number of users who use our application. Our goal for this project is to analyze data to help our developers understand what types of apps are likely to attract more users."
   ]
  },
  {
   "cell_type": "markdown",
   "id": "ed6c23c7",
   "metadata": {},
   "source": [
    "## Exploring the datasets"
   ]
  },
  {
   "cell_type": "code",
   "execution_count": 1,
   "id": "7db7d666",
   "metadata": {},
   "outputs": [],
   "source": [
    "from csv import reader\n",
    "\n",
    "### L'ensemble de données App Store ###\n",
    "opened_file = open('AppleStore.csv', encoding=\"utf8\")\n",
    "read_file = reader(opened_file)\n",
    "ios = list(read_file)\n",
    "ios_header = ios[0]\n",
    "ios = ios[1:]\n",
    "\n",
    "### L'ensemble de données Google Play ###\n",
    "opened_file = open('googleplaystore.csv', encoding=\"utf8\")\n",
    "read_file = reader(opened_file)\n",
    "android = list(read_file)\n",
    "android_header = android[0]\n",
    "android = android[1:]"
   ]
  },
  {
   "cell_type": "code",
   "execution_count": 2,
   "id": "a59d06c9",
   "metadata": {},
   "outputs": [],
   "source": [
    "#creating a function named explore_data() to print rows in a readable way\n",
    "\n",
    "def explore_data(dataset, start, end, rows_and_columns=False):\n",
    "# The Python \"TypeError: '_io.TextIOWrapper' object is not subscriptable\" occurs when we try to use square brackets\n",
    "# to access a key or index in a file object.To solve the error, use the readlines() method if you need a list of \n",
    "# the file's lines, or parse the JSON before accessing a key.\n",
    "    #dataset_lines = dataset.readlines() \n",
    "    #dataset_slice=dataset_lines[start:end]\n",
    "    \n",
    "    dataset_slice=dataset[start:end]\n",
    "\n",
    "    \n",
    "    for row in dataset_slice:\n",
    "        print(row)\n",
    "        print('\\n') # to add a new line after each row\n",
    "    \n",
    "    if rows_and_columns:\n",
    "        print('Number of rows:', len(dataset))\n",
    "        print('Number of columns:', len(dataset[0]))"
   ]
  },
  {
   "cell_type": "code",
   "execution_count": 3,
   "id": "d4b86224",
   "metadata": {},
   "outputs": [
    {
     "name": "stdout",
     "output_type": "stream",
     "text": [
      "The Apple Store's Data: \n",
      "\n",
      "['284882215', 'Facebook', '389879808', 'USD', '0.0', '2974676', '212', '3.5', '3.5', '95.0', '4+', 'Social Networking', '37', '1', '29', '1']\n",
      "\n",
      "\n",
      "['389801252', 'Instagram', '113954816', 'USD', '0.0', '2161558', '1289', '4.5', '4.0', '10.23', '12+', 'Photo & Video', '37', '0', '29', '1']\n",
      "\n",
      "\n",
      "['529479190', 'Clash of Clans', '116476928', 'USD', '0.0', '2130805', '579', '4.5', '4.5', '9.24.12', '9+', 'Games', '38', '5', '18', '1']\n",
      "\n",
      "\n",
      "['420009108', 'Temple Run', '65921024', 'USD', '0.0', '1724546', '3842', '4.5', '4.0', '1.6.2', '9+', 'Games', '40', '5', '1', '1']\n",
      "\n",
      "\n",
      "['284035177', 'Pandora - Music & Radio', '130242560', 'USD', '0.0', '1126879', '3594', '4.0', '4.5', '8.4.1', '12+', 'Music', '37', '4', '1', '1']\n",
      "\n",
      "\n"
     ]
    }
   ],
   "source": [
    "#exploring our datasets using the function above\n",
    "print(\"The Apple Store's Data: \\n\")\n",
    "explore_data(ios, 0, 5, False)"
   ]
  },
  {
   "cell_type": "code",
   "execution_count": 4,
   "id": "90024f29",
   "metadata": {},
   "outputs": [
    {
     "name": "stdout",
     "output_type": "stream",
     "text": [
      "The Android Play's Data: \n",
      "\n",
      "['Photo Editor & Candy Camera & Grid & ScrapBook', 'ART_AND_DESIGN', '4.1', '159', '19M', '10,000+', 'Free', '0', 'Everyone', 'Art & Design', 'January 7, 2018', '1.0.0', '4.0.3 and up']\n",
      "\n",
      "\n",
      "['Coloring book moana', 'ART_AND_DESIGN', '3.9', '967', '14M', '500,000+', 'Free', '0', 'Everyone', 'Art & Design;Pretend Play', 'January 15, 2018', '2.0.0', '4.0.3 and up']\n",
      "\n",
      "\n",
      "['U Launcher Lite – FREE Live Cool Themes, Hide Apps', 'ART_AND_DESIGN', '4.7', '87510', '8.7M', '5,000,000+', 'Free', '0', 'Everyone', 'Art & Design', 'August 1, 2018', '1.2.4', '4.0.3 and up']\n",
      "\n",
      "\n",
      "['Sketch - Draw & Paint', 'ART_AND_DESIGN', '4.5', '215644', '25M', '50,000,000+', 'Free', '0', 'Teen', 'Art & Design', 'June 8, 2018', 'Varies with device', '4.2 and up']\n",
      "\n",
      "\n",
      "['Pixel Draw - Number Art Coloring Book', 'ART_AND_DESIGN', '4.3', '967', '2.8M', '100,000+', 'Free', '0', 'Everyone', 'Art & Design;Creativity', 'June 20, 2018', '1.1', '4.4 and up']\n",
      "\n",
      "\n"
     ]
    }
   ],
   "source": [
    "print(\"The Android Play's Data: \\n\")\n",
    "explore_data(android, 0, 5, False)"
   ]
  },
  {
   "cell_type": "code",
   "execution_count": 5,
   "id": "661b1252",
   "metadata": {},
   "outputs": [
    {
     "name": "stdout",
     "output_type": "stream",
     "text": [
      "Apple's columns names: \n",
      "\n",
      "['284882215', 'Facebook', '389879808', 'USD', '0.0', '2974676', '212', '3.5', '3.5', '95.0', '4+', 'Social Networking', '37', '1', '29', '1'] \n",
      "\n",
      "Android's columns names: \n",
      "\n",
      "['Photo Editor & Candy Camera & Grid & ScrapBook', 'ART_AND_DESIGN', '4.1', '159', '19M', '10,000+', 'Free', '0', 'Everyone', 'Art & Design', 'January 7, 2018', '1.0.0', '4.0.3 and up']\n"
     ]
    }
   ],
   "source": [
    "#The column names\n",
    "print(\"Apple's columns names: \\n\")\n",
    "print(ios[0],'\\n')\n",
    "\n",
    "print(\"Android's columns names: \\n\")\n",
    "print(android[0])"
   ]
  },
  {
   "cell_type": "markdown",
   "id": "66c7925b",
   "metadata": {},
   "source": [
    "# Removing duplicate items"
   ]
  },
  {
   "cell_type": "code",
   "execution_count": 6,
   "id": "db22175c",
   "metadata": {},
   "outputs": [
    {
     "name": "stdout",
     "output_type": "stream",
     "text": [
      "['Twitter', 'NEWS_AND_MAGAZINES', '4.3', '11667403', 'Varies with device', '500,000,000+', 'Free', '0', 'Mature 17+', 'News & Magazines', 'August 6, 2018', 'Varies with device', 'Varies with device'] \n",
      "\n",
      "['Twitter', 'NEWS_AND_MAGAZINES', '4.3', '11667403', 'Varies with device', '500,000,000+', 'Free', '0', 'Mature 17+', 'News & Magazines', 'August 6, 2018', 'Varies with device', 'Varies with device'] \n",
      "\n",
      "['Twitter', 'NEWS_AND_MAGAZINES', '4.3', '11657972', 'Varies with device', '500,000,000+', 'Free', '0', 'Mature 17+', 'News & Magazines', 'July 30, 2018', 'Varies with device', 'Varies with device'] \n",
      "\n"
     ]
    }
   ],
   "source": [
    "#Example of duplicate apps\n",
    "for app in android:\n",
    "    name=app[0]\n",
    "    if name == 'Twitter':\n",
    "        print(app, '\\n')"
   ]
  },
  {
   "cell_type": "code",
   "execution_count": 7,
   "id": "ed0a5626",
   "metadata": {},
   "outputs": [],
   "source": [
    "unique_apps = []\n",
    "duplicate_apps = []\n",
    "\n",
    "for app in android:\n",
    "    name = app[0]\n",
    "    if name in unique_apps:\n",
    "        duplicate_apps.append(name)\n",
    "    else:\n",
    "        unique_apps.append(name)"
   ]
  },
  {
   "cell_type": "code",
   "execution_count": 8,
   "id": "24d2de08",
   "metadata": {},
   "outputs": [
    {
     "name": "stdout",
     "output_type": "stream",
     "text": [
      "Number of duplicate apps: 1181\n",
      "Number of unique apps: 9660\n",
      "\n",
      "\n",
      "Examples of duplicate apps: ['Quick PDF Scanner + OCR FREE', 'Box', 'Google My Business', 'ZOOM Cloud Meetings', 'join.me - Simple Meetings']\n"
     ]
    }
   ],
   "source": [
    "print('Number of duplicate apps:', len(duplicate_apps))\n",
    "print('Number of unique apps:', len(unique_apps))\n",
    "print('\\n')\n",
    "print('Examples of duplicate apps:', duplicate_apps[:5])"
   ]
  },
  {
   "cell_type": "raw",
   "id": "2a80a1b4",
   "metadata": {},
   "source": [
    "To remove the duplicate rows we should pay attention to the number of reviews, the app that we should save is the most recent one, which means the one that has the highest number of reviews."
   ]
  },
  {
   "cell_type": "code",
   "execution_count": 9,
   "id": "4729d622",
   "metadata": {},
   "outputs": [
    {
     "name": "stdout",
     "output_type": "stream",
     "text": [
      "Expected length: 9659\n"
     ]
    }
   ],
   "source": [
    "android_No_Header = android[1:]\n",
    "print('Expected length:' ,len(android_No_Header) - 1181)"
   ]
  },
  {
   "cell_type": "markdown",
   "id": "24bba73e",
   "metadata": {},
   "source": [
    "Reviews_max a dictionary where each key is a unique app name and the corresponding dictionary value is\n",
    "the highest number of reviews of that app."
   ]
  },
  {
   "cell_type": "code",
   "execution_count": 10,
   "id": "977f4d94",
   "metadata": {},
   "outputs": [],
   "source": [
    "reviews_max = {}\n",
    "\n",
    "for row in android:\n",
    "    name = row[0]\n",
    "    n_reviews = float(row[2])\n",
    "    \n",
    "    if name in reviews_max and n_reviews > reviews_max[name]:\n",
    "        reviews_max[name] = n_reviews\n",
    "        \n",
    "    elif name not in reviews_max:\n",
    "        reviews_max[name] = n_reviews"
   ]
  },
  {
   "cell_type": "code",
   "execution_count": 11,
   "id": "bed09f44",
   "metadata": {},
   "outputs": [
    {
     "name": "stdout",
     "output_type": "stream",
     "text": [
      "reviews_max:  9660\n",
      "unique_apps:  9660\n"
     ]
    }
   ],
   "source": [
    "print('reviews_max: ', len(reviews_max))\n",
    "print('unique_apps: ', len(unique_apps))"
   ]
  },
  {
   "cell_type": "markdown",
   "id": "d81b69f9",
   "metadata": {},
   "source": [
    "Removing duplicate data using the dictionary reviews_max"
   ]
  },
  {
   "cell_type": "code",
   "execution_count": 12,
   "id": "e7bcb8df",
   "metadata": {},
   "outputs": [],
   "source": [
    "android_clean = []\n",
    "already_added = []\n",
    "\n",
    "for row in android:\n",
    "    name = row[0]\n",
    "    n_reviews = float(row[2])\n",
    "    if n_reviews == reviews_max[name] and name not in already_added:\n",
    "        android_clean.append(row)\n",
    "        already_added.append(name)"
   ]
  },
  {
   "cell_type": "code",
   "execution_count": 13,
   "id": "aa1ec2dc",
   "metadata": {},
   "outputs": [
    {
     "name": "stdout",
     "output_type": "stream",
     "text": [
      "['Photo Editor & Candy Camera & Grid & ScrapBook', 'ART_AND_DESIGN', '4.1', '159', '19M', '10,000+', 'Free', '0', 'Everyone', 'Art & Design', 'January 7, 2018', '1.0.0', '4.0.3 and up']\n",
      "\n",
      "\n",
      "['Coloring book moana', 'ART_AND_DESIGN', '3.9', '967', '14M', '500,000+', 'Free', '0', 'Everyone', 'Art & Design;Pretend Play', 'January 15, 2018', '2.0.0', '4.0.3 and up']\n",
      "\n",
      "\n",
      "['U Launcher Lite – FREE Live Cool Themes, Hide Apps', 'ART_AND_DESIGN', '4.7', '87510', '8.7M', '5,000,000+', 'Free', '0', 'Everyone', 'Art & Design', 'August 1, 2018', '1.2.4', '4.0.3 and up']\n",
      "\n",
      "\n",
      "Number of rows: 8197\n",
      "Number of columns: 13\n"
     ]
    }
   ],
   "source": [
    "explore_data(android_clean, 0, 3, True)"
   ]
  },
  {
   "cell_type": "markdown",
   "id": "c544bdc8",
   "metadata": {},
   "source": [
    "We'd like to analyze only the apps that are designed for an English-speaking audience."
   ]
  },
  {
   "cell_type": "markdown",
   "id": "a0776f14",
   "metadata": {},
   "source": [
    "# Removing Non-English Apps"
   ]
  },
  {
   "cell_type": "code",
   "execution_count": 14,
   "id": "69532d54",
   "metadata": {},
   "outputs": [
    {
     "name": "stdout",
     "output_type": "stream",
     "text": [
      "Number of duplicate apps: 0\n",
      "Example of duplicate apps []\n"
     ]
    }
   ],
   "source": [
    "#Total duplicate apps in Apple store\n",
    "duplicate_apps = []\n",
    "unique_apps = []\n",
    "\n",
    "for app in ios:\n",
    "    id=app[0]\n",
    "    if id in unique_apps:\n",
    "        duplicate_apps.append(id)\n",
    "    else:\n",
    "        unique_apps.append(id)\n",
    "print('Number of duplicate apps:', len(duplicate_apps))\n",
    "print('Example of duplicate apps', duplicate_apps[:15])"
   ]
  },
  {
   "cell_type": "markdown",
   "id": "b0447ae5",
   "metadata": {},
   "source": [
    "Writing a function that takes in a string and returns False if there's any character in the string that doesn't\n",
    "belong to the set of common English characters; otherwise, the function returns True."
   ]
  },
  {
   "cell_type": "code",
   "execution_count": 15,
   "id": "55169513",
   "metadata": {},
   "outputs": [],
   "source": [
    "def is_english(string):\n",
    "    for letter in string:\n",
    "        if ord(letter) > 127:\n",
    "            return False          \n",
    "    return True"
   ]
  },
  {
   "cell_type": "code",
   "execution_count": 16,
   "id": "6615dc03",
   "metadata": {},
   "outputs": [
    {
     "name": "stdout",
     "output_type": "stream",
     "text": [
      "True\n",
      "False\n",
      "False\n",
      "False\n",
      "8482\n",
      "128540\n"
     ]
    }
   ],
   "source": [
    "print(is_english('Instagram'))\n",
    "print(is_english('爱奇艺PPS -《欢乐颂2》电视剧热播'))\n",
    "print(is_english('Docs To Go™ Free Office Suite'))\n",
    "print(is_english('Instachat 😜'))\n",
    "print(ord('™'))\n",
    "print(ord('😜'))"
   ]
  },
  {
   "cell_type": "markdown",
   "id": "f4dca870",
   "metadata": {},
   "source": [
    "To minimize the impact of data loss, we will only remove an app if its name has more than three non-ASCII characters:"
   ]
  },
  {
   "cell_type": "code",
   "execution_count": 17,
   "id": "ca87639a",
   "metadata": {},
   "outputs": [],
   "source": [
    "def is_english(string):\n",
    "    n=0\n",
    "    for letter in string:\n",
    "        if ord(letter) > 127:\n",
    "            n += 1\n",
    "    if n > 3:\n",
    "        return False\n",
    "    return True"
   ]
  },
  {
   "cell_type": "code",
   "execution_count": 18,
   "id": "dce4d70d",
   "metadata": {},
   "outputs": [
    {
     "name": "stdout",
     "output_type": "stream",
     "text": [
      "True\n",
      "False\n",
      "True\n",
      "True\n"
     ]
    }
   ],
   "source": [
    "print(is_english('Instagram'))\n",
    "print(is_english('爱奇艺PPS -《欢乐颂2》电视剧热播'))\n",
    "print(is_english('Docs To Go™ Free Office Suite'))\n",
    "print(is_english('Instachat 😜'))"
   ]
  },
  {
   "cell_type": "code",
   "execution_count": 19,
   "id": "1cc98d06",
   "metadata": {},
   "outputs": [],
   "source": [
    "#filter out non-English apps from android\n",
    "english_android = []\n",
    "english_ios = []\n",
    "\n",
    "for row in android_clean:\n",
    "    name = row[0]\n",
    "    if is_english(name):\n",
    "        english_android.append(row)\n",
    "        \n",
    "for row in ios:\n",
    "    name = row[1]\n",
    "    if is_english(name):\n",
    "        english_ios.append(row)"
   ]
  },
  {
   "cell_type": "code",
   "execution_count": 20,
   "id": "69a1bb05",
   "metadata": {},
   "outputs": [
    {
     "name": "stdout",
     "output_type": "stream",
     "text": [
      "['Photo Editor & Candy Camera & Grid & ScrapBook', 'ART_AND_DESIGN', '4.1', '159', '19M', '10,000+', 'Free', '0', 'Everyone', 'Art & Design', 'January 7, 2018', '1.0.0', '4.0.3 and up']\n",
      "\n",
      "\n",
      "['Coloring book moana', 'ART_AND_DESIGN', '3.9', '967', '14M', '500,000+', 'Free', '0', 'Everyone', 'Art & Design;Pretend Play', 'January 15, 2018', '2.0.0', '4.0.3 and up']\n",
      "\n",
      "\n",
      "['U Launcher Lite – FREE Live Cool Themes, Hide Apps', 'ART_AND_DESIGN', '4.7', '87510', '8.7M', '5,000,000+', 'Free', '0', 'Everyone', 'Art & Design', 'August 1, 2018', '1.2.4', '4.0.3 and up']\n",
      "\n",
      "\n",
      "Number of rows: 8167\n",
      "Number of columns: 13\n",
      "\n",
      "\n",
      "['284882215', 'Facebook', '389879808', 'USD', '0.0', '2974676', '212', '3.5', '3.5', '95.0', '4+', 'Social Networking', '37', '1', '29', '1']\n",
      "\n",
      "\n",
      "['389801252', 'Instagram', '113954816', 'USD', '0.0', '2161558', '1289', '4.5', '4.0', '10.23', '12+', 'Photo & Video', '37', '0', '29', '1']\n",
      "\n",
      "\n",
      "['529479190', 'Clash of Clans', '116476928', 'USD', '0.0', '2130805', '579', '4.5', '4.5', '9.24.12', '9+', 'Games', '38', '5', '18', '1']\n",
      "\n",
      "\n",
      "Number of rows: 6183\n",
      "Number of columns: 16\n"
     ]
    }
   ],
   "source": [
    "explore_data(english_android, 0, 3, True)\n",
    "print('\\n')\n",
    "explore_data(english_ios, 0, 3, True)"
   ]
  },
  {
   "cell_type": "markdown",
   "id": "a1a8bab8",
   "metadata": {},
   "source": [
    "# Isolating the Free Apps"
   ]
  },
  {
   "cell_type": "markdown",
   "id": "77cd5e9b",
   "metadata": {},
   "source": [
    "As mentioned in the introduction, we only develop apps that are free to download and install, and our main source of revenue is from in-app ads. Our datasets contain both free and non-free apps, and we will need to isolate only free apps for our analysis. Below we isolate the free apps for our two datasets"
   ]
  },
  {
   "cell_type": "code",
   "execution_count": 21,
   "id": "5c6553a2",
   "metadata": {},
   "outputs": [],
   "source": [
    "#isolating free apps in separate lists: \n",
    "free_android = []\n",
    "free_ios = []\n",
    "\n",
    "for row in english_android:\n",
    "    price = row[7]\n",
    "    if price == '0':\n",
    "        free_android.append(row)\n",
    "\n",
    "for row in english_ios:\n",
    "    price = row[4]\n",
    "    if price == '0.0':\n",
    "        free_ios.append(row)"
   ]
  },
  {
   "cell_type": "code",
   "execution_count": 22,
   "id": "ac9635c6",
   "metadata": {},
   "outputs": [
    {
     "name": "stdout",
     "output_type": "stream",
     "text": [
      "['Photo Editor & Candy Camera & Grid & ScrapBook', 'ART_AND_DESIGN', '4.1', '159', '19M', '10,000+', 'Free', '0', 'Everyone', 'Art & Design', 'January 7, 2018', '1.0.0', '4.0.3 and up']\n",
      "\n",
      "\n",
      "['Coloring book moana', 'ART_AND_DESIGN', '3.9', '967', '14M', '500,000+', 'Free', '0', 'Everyone', 'Art & Design;Pretend Play', 'January 15, 2018', '2.0.0', '4.0.3 and up']\n",
      "\n",
      "\n",
      "['U Launcher Lite – FREE Live Cool Themes, Hide Apps', 'ART_AND_DESIGN', '4.7', '87510', '8.7M', '5,000,000+', 'Free', '0', 'Everyone', 'Art & Design', 'August 1, 2018', '1.2.4', '4.0.3 and up']\n",
      "\n",
      "\n",
      "['Sketch - Draw & Paint', 'ART_AND_DESIGN', '4.5', '215644', '25M', '50,000,000+', 'Free', '0', 'Teen', 'Art & Design', 'June 8, 2018', 'Varies with device', '4.2 and up']\n",
      "\n",
      "\n",
      "['Pixel Draw - Number Art Coloring Book', 'ART_AND_DESIGN', '4.3', '967', '2.8M', '100,000+', 'Free', '0', 'Everyone', 'Art & Design;Creativity', 'June 20, 2018', '1.1', '4.4 and up']\n",
      "\n",
      "\n",
      "Number of rows: 7565\n",
      "Number of columns: 13\n"
     ]
    }
   ],
   "source": [
    "explore_data(free_android, 0, 5, True)"
   ]
  },
  {
   "cell_type": "code",
   "execution_count": 23,
   "id": "338c6c61",
   "metadata": {},
   "outputs": [
    {
     "name": "stdout",
     "output_type": "stream",
     "text": [
      "['284882215', 'Facebook', '389879808', 'USD', '0.0', '2974676', '212', '3.5', '3.5', '95.0', '4+', 'Social Networking', '37', '1', '29', '1']\n",
      "\n",
      "\n",
      "['389801252', 'Instagram', '113954816', 'USD', '0.0', '2161558', '1289', '4.5', '4.0', '10.23', '12+', 'Photo & Video', '37', '0', '29', '1']\n",
      "\n",
      "\n",
      "['529479190', 'Clash of Clans', '116476928', 'USD', '0.0', '2130805', '579', '4.5', '4.5', '9.24.12', '9+', 'Games', '38', '5', '18', '1']\n",
      "\n",
      "\n",
      "['420009108', 'Temple Run', '65921024', 'USD', '0.0', '1724546', '3842', '4.5', '4.0', '1.6.2', '9+', 'Games', '40', '5', '1', '1']\n",
      "\n",
      "\n",
      "['284035177', 'Pandora - Music & Radio', '130242560', 'USD', '0.0', '1126879', '3594', '4.0', '4.5', '8.4.1', '12+', 'Music', '37', '4', '1', '1']\n",
      "\n",
      "\n",
      "Number of rows: 3222\n",
      "Number of columns: 16\n"
     ]
    }
   ],
   "source": [
    "explore_data(free_ios,0, 5, True)"
   ]
  },
  {
   "cell_type": "markdown",
   "id": "859d335c",
   "metadata": {},
   "source": [
    "# Most Common Apps by Genre:"
   ]
  },
  {
   "cell_type": "markdown",
   "id": "b1e740c9",
   "metadata": {},
   "source": [
    "Let's begin the analysis by determining the most common genres for each market. For this, we'll need to\n",
    "build frequency tables for a few columns in our datasets (prime_genre column of the App Store\n",
    "data set, and Genres and Category columns of the Google Play data set)."
   ]
  },
  {
   "cell_type": "markdown",
   "id": "57893ab5",
   "metadata": {},
   "source": [
    "We'll build two functions we can use to analyze the frequency tables:\n",
    "\n",
    " 1-One function to generate frequency tables that show percentages.\n",
    " \n",
    " 2-Another function we can use to display the percentages in a descending order."
   ]
  },
  {
   "cell_type": "markdown",
   "id": "d32f2fda",
   "metadata": {},
   "source": [
    "So far, we've spent a lot of time cleaning the data:\n",
    "\n",
    "Removal of inaccurate data\n",
    "Remove duplicate app entries\n",
    "Remove non-English apps\n",
    "Isolate free apps\n",
    "\n",
    "As we mentioned in the introduction, our goal is to determine the types of apps that can attract more users, because our revenue is strongly influenced by the number of people using our apps.\n",
    "\n",
    "Since our end goal is to add the apps to both the App Store and Google Play, we need to find app profiles that are successful in both markets. For example, a profile that might work well for both markets might be a productivity app that uses gamification.\n",
    "\n",
    "Let's start the analysis by getting an idea of the most common genres for each market. To do this, we'll create a frequency table for the prime_genre column from the App Store dataset and the Genres and Category columns from the Google Play dataset.\n",
    "\n",
    "We'll create two functions that we can use to analyze frequency tables:\n",
    "\n",
    "A function to generate frequency tables displaying percentages\n",
    "Another function we can use to display percentages in descending order"
   ]
  },
  {
   "cell_type": "code",
   "execution_count": 24,
   "id": "fbee4b93",
   "metadata": {},
   "outputs": [],
   "source": [
    "def freq_table(dataset, index):\n",
    "    freq_dict = {}\n",
    "    for row in dataset:\n",
    "        value = row[index]\n",
    "        if value in freq_dict:\n",
    "            freq_dict[value] += 1\n",
    "        else:\n",
    "            freq_dict[value] = 1\n",
    "    for key in freq_dict:\n",
    "        freq_dict[key]= freq_dict[key]/len(dataset) * 100\n",
    "    return freq_dict\n",
    "    "
   ]
  },
  {
   "cell_type": "code",
   "execution_count": 25,
   "id": "f0e82da9",
   "metadata": {},
   "outputs": [],
   "source": [
    "def display_table(dataset, index):\n",
    "    table = freq_table(dataset, index)\n",
    "    table_display = []\n",
    "    for key in table:\n",
    "        key_val_as_tuple = (table[key], key)\n",
    "        table_display.append(key_val_as_tuple)\n",
    "\n",
    "    table_sorted = sorted(table_display, reverse = True)\n",
    "    for entry in table_sorted:\n",
    "        print(entry[1], ':', entry[0])"
   ]
  },
  {
   "cell_type": "code",
   "execution_count": 26,
   "id": "0a6f258e",
   "metadata": {},
   "outputs": [
    {
     "name": "stdout",
     "output_type": "stream",
     "text": [
      "Games : 58.16263190564867\n",
      "Entertainment : 7.883302296710118\n",
      "Photo & Video : 4.9658597144630665\n",
      "Education : 3.662321539416512\n",
      "Social Networking : 3.2898820608317814\n",
      "Shopping : 2.60707635009311\n",
      "Utilities : 2.5139664804469275\n",
      "Sports : 2.1415270018621975\n",
      "Music : 2.0484171322160147\n",
      "Health & Fitness : 2.0173805090006205\n",
      "Productivity : 1.7380509000620732\n",
      "Lifestyle : 1.5828677839851024\n",
      "News : 1.3345747982619491\n",
      "Travel : 1.2414649286157666\n",
      "Finance : 1.1173184357541899\n",
      "Weather : 0.8690254500310366\n",
      "Food & Drink : 0.8069522036002483\n",
      "Reference : 0.5586592178770949\n",
      "Business : 0.5276225946617008\n",
      "Book : 0.4345127250155183\n",
      "Navigation : 0.186219739292365\n",
      "Medical : 0.186219739292365\n",
      "Catalogs : 0.12414649286157665\n"
     ]
    }
   ],
   "source": [
    "display_table(free_ios, 11)"
   ]
  },
  {
   "cell_type": "markdown",
   "id": "cd1c52ee",
   "metadata": {},
   "source": [
    "We can see that among the free applications in English, more than half (58.16%) are games. Entertainment apps are close to 8%, followed by photo and video apps, which are close to 5%. Only 3.66% of apps are designed for education, followed by social media apps which make up 3.29% of apps in our data set.\n",
    "\n",
    "The general deduction is that the App Store (at least the part containing free applications in English) is dominated by applications designed for pleasure (games, entertainment, photo and video, social networks, sports, music, etc.) , while other apps with goals of (education, shopping, utilities, productivity, lifestyle, etc.) are rarer. However, just because fun apps are the most numerous does not mean that they also have the most users - the demand may not be the same as the supply."
   ]
  },
  {
   "cell_type": "code",
   "execution_count": 27,
   "id": "7093f361",
   "metadata": {},
   "outputs": [
    {
     "name": "stdout",
     "output_type": "stream",
     "text": [
      "FAMILY : 19.07468605419696\n",
      "GAME : 11.037673496364839\n",
      "TOOLS : 8.67151354923992\n",
      "FINANCE : 3.8202247191011236\n",
      "PRODUCTIVITY : 3.727693324520819\n",
      "LIFESTYLE : 3.688037012557832\n",
      "BUSINESS : 3.344348975545274\n",
      "PHOTOGRAPHY : 3.2782551222736287\n",
      "SPORTS : 3.146067415730337\n",
      "COMMUNICATION : 3.0931923331130204\n",
      "PERSONALIZATION : 3.0799735624586915\n",
      "HEALTH_AND_FITNESS : 3.0667547918043625\n",
      "MEDICAL : 3.0138797091870457\n",
      "SOCIAL : 2.6569729015201586\n",
      "NEWS_AND_MAGAZINES : 2.6173165895571713\n",
      "TRAVEL_AND_LOCAL : 2.3661599471249173\n",
      "SHOPPING : 2.3529411764705883\n",
      "BOOKS_AND_REFERENCE : 2.1017845340383343\n",
      "VIDEO_PLAYERS : 1.903502974223397\n",
      "DATING : 1.7316589557171185\n",
      "EDUCATION : 1.4937210839391937\n",
      "MAPS_AND_NAVIGATION : 1.4805023132848645\n",
      "ENTERTAINMENT : 1.3218770654329148\n",
      "FOOD_AND_DRINK : 1.2161269001982815\n",
      "AUTO_AND_VEHICLES : 0.9517514871116985\n",
      "WEATHER : 0.8592200925313946\n",
      "LIBRARIES_AND_DEMO : 0.8460013218770654\n",
      "HOUSE_AND_HOME : 0.8195637805684072\n",
      "ART_AND_DESIGN : 0.7534699272967614\n",
      "COMICS : 0.7005948446794449\n",
      "PARENTING : 0.634500991407799\n",
      "EVENTS : 0.5948446794448117\n",
      "BEAUTY : 0.5551883674818242\n"
     ]
    }
   ],
   "source": [
    "display_table(free_android, 1)  #Category"
   ]
  },
  {
   "cell_type": "markdown",
   "id": "d920ef45",
   "metadata": {},
   "source": [
    "The situation looks noticeably different on Google Play: there aren't many apps designed for fun, and it seems that a fair number of apps are designed for practical purposes (family, tools, business, lifestyle). life, productivity, etc.). However, if we dig deeper into this question, we can see that the family category (which accounts for almost 19% of apps) mainly means games for children."
   ]
  },
  {
   "cell_type": "markdown",
   "id": "810b37c1",
   "metadata": {},
   "source": [
    "Even so, how-to apps seem to have a better representation on Google Play compared to the App Store. This picture is also confirmed by the frequency chart we see for the Genres column:"
   ]
  },
  {
   "cell_type": "code",
   "execution_count": 28,
   "id": "a4b92674",
   "metadata": {},
   "outputs": [
    {
     "name": "stdout",
     "output_type": "stream",
     "text": [
      "Tools : 8.658294778585592\n",
      "Entertainment : 6.014540647719762\n",
      "Education : 5.393258426966292\n",
      "Finance : 3.8202247191011236\n",
      "Productivity : 3.727693324520819\n",
      "Lifestyle : 3.674818241903503\n",
      "Action : 3.5426305353602117\n",
      "Business : 3.344348975545274\n",
      "Photography : 3.2782551222736287\n",
      "Sports : 3.2253800396563124\n",
      "Communication : 3.0931923331130204\n",
      "Personalization : 3.0799735624586915\n",
      "Health & Fitness : 3.0667547918043625\n",
      "Medical : 3.0138797091870457\n",
      "Social : 2.6569729015201586\n",
      "News & Magazines : 2.6173165895571713\n",
      "Travel & Local : 2.3529411764705883\n",
      "Shopping : 2.3529411764705883\n",
      "Simulation : 2.313284864507601\n",
      "Books & Reference : 2.1017845340383343\n",
      "Arcade : 2.0356906807666886\n",
      "Casual : 1.982815598149372\n",
      "Video Players & Editors : 1.890284203569068\n",
      "Dating : 1.7316589557171185\n",
      "Maps & Navigation : 1.4805023132848645\n",
      "Food & Drink : 1.2161269001982815\n",
      "Racing : 1.1103767349636484\n",
      "Puzzle : 1.0971579643093192\n",
      "Role Playing : 1.0575016523463316\n",
      "Strategy : 1.0178453403833443\n",
      "Auto & Vehicles : 0.9517514871116985\n",
      "Weather : 0.8592200925313946\n",
      "Libraries & Demo : 0.8460013218770654\n",
      "House & Home : 0.8195637805684072\n",
      "Adventure : 0.7666886979510906\n",
      "Comics : 0.6873760740251157\n",
      "Art & Design : 0.6741573033707865\n",
      "Events : 0.5948446794448117\n",
      "Beauty : 0.5551883674818242\n",
      "Parenting : 0.5023132848645075\n",
      "Card : 0.5023132848645075\n",
      "Casino : 0.4758757435558493\n",
      "Educational;Education : 0.4362194315928619\n",
      "Board : 0.4230006609385327\n",
      "Educational : 0.39656311962987445\n",
      "Education;Education : 0.39656311962987445\n",
      "Trivia : 0.356906807666887\n",
      "Word : 0.29081295439524124\n",
      "Casual;Pretend Play : 0.2775941837409121\n",
      "Music : 0.22471910112359553\n",
      "Racing;Action & Adventure : 0.19828155981493722\n",
      "Puzzle;Brain Games : 0.19828155981493722\n",
      "Entertainment;Music & Video : 0.19828155981493722\n",
      "Casual;Brain Games : 0.15862524785194976\n",
      "Casual;Action & Adventure : 0.15862524785194976\n",
      "Arcade;Action & Adventure : 0.13218770654329146\n",
      "Action;Action & Adventure : 0.11896893588896232\n",
      "Educational;Pretend Play : 0.10575016523463318\n",
      "Simulation;Action & Adventure : 0.09253139458030403\n",
      "Entertainment;Brain Games : 0.09253139458030403\n",
      "Board;Brain Games : 0.09253139458030403\n",
      "Parenting;Music & Video : 0.07931262392597488\n",
      "Educational;Brain Games : 0.07931262392597488\n",
      "Casual;Creativity : 0.07931262392597488\n",
      "Art & Design;Creativity : 0.07931262392597488\n",
      "Education;Pretend Play : 0.06609385327164573\n",
      "Role Playing;Pretend Play : 0.05287508261731659\n",
      "Education;Creativity : 0.05287508261731659\n",
      "Role Playing;Action & Adventure : 0.03965631196298744\n",
      "Puzzle;Action & Adventure : 0.03965631196298744\n",
      "Parenting;Education : 0.03965631196298744\n",
      "Entertainment;Creativity : 0.03965631196298744\n",
      "Entertainment;Action & Adventure : 0.03965631196298744\n",
      "Educational;Creativity : 0.03965631196298744\n",
      "Educational;Action & Adventure : 0.03965631196298744\n",
      "Education;Music & Video : 0.03965631196298744\n",
      "Education;Brain Games : 0.03965631196298744\n",
      "Education;Action & Adventure : 0.03965631196298744\n",
      "Adventure;Action & Adventure : 0.03965631196298744\n",
      "Video Players & Editors;Music & Video : 0.026437541308658295\n",
      "Sports;Action & Adventure : 0.026437541308658295\n",
      "Simulation;Pretend Play : 0.026437541308658295\n",
      "Puzzle;Creativity : 0.026437541308658295\n",
      "Music;Music & Video : 0.026437541308658295\n",
      "Entertainment;Pretend Play : 0.026437541308658295\n",
      "Casual;Education : 0.026437541308658295\n",
      "Board;Action & Adventure : 0.026437541308658295\n",
      "Video Players & Editors;Creativity : 0.013218770654329148\n",
      "Travel & Local;Action & Adventure : 0.013218770654329148\n",
      "Tools;Education : 0.013218770654329148\n",
      "Strategy;Education : 0.013218770654329148\n",
      "Strategy;Creativity : 0.013218770654329148\n",
      "Strategy;Action & Adventure : 0.013218770654329148\n",
      "Simulation;Education : 0.013218770654329148\n",
      "Role Playing;Brain Games : 0.013218770654329148\n",
      "Racing;Pretend Play : 0.013218770654329148\n",
      "Puzzle;Education : 0.013218770654329148\n",
      "Parenting;Brain Games : 0.013218770654329148\n",
      "Music & Audio;Music & Video : 0.013218770654329148\n",
      "Lifestyle;Pretend Play : 0.013218770654329148\n",
      "Lifestyle;Education : 0.013218770654329148\n",
      "Health & Fitness;Education : 0.013218770654329148\n",
      "Health & Fitness;Action & Adventure : 0.013218770654329148\n",
      "Entertainment;Education : 0.013218770654329148\n",
      "Communication;Creativity : 0.013218770654329148\n",
      "Comics;Creativity : 0.013218770654329148\n",
      "Casual;Music & Video : 0.013218770654329148\n",
      "Card;Action & Adventure : 0.013218770654329148\n",
      "Books & Reference;Education : 0.013218770654329148\n",
      "Art & Design;Pretend Play : 0.013218770654329148\n",
      "Arcade;Pretend Play : 0.013218770654329148\n",
      "Adventure;Education : 0.013218770654329148\n"
     ]
    }
   ],
   "source": [
    "display_table(free_android, 9)  #Genre"
   ]
  },
  {
   "cell_type": "markdown",
   "id": "48283a04",
   "metadata": {},
   "source": [
    "The difference between the Genres and Category columns is unclear, but one thing we can notice is that the Genres column is much more granular (it has more categories). We are only looking for an overview at the moment, so we will work with the Category column in the future.\n",
    "\n",
    "So far, we've found that the App Store is dominated by apps designed for fun, while Google Play presents a more balanced landscape of practical and fun apps. We would now like to have an idea of the type of apps that have the most users."
   ]
  },
  {
   "cell_type": "markdown",
   "id": "98cb8be4",
   "metadata": {},
   "source": [
    "# Most popular apps by genre on the App Store"
   ]
  },
  {
   "cell_type": "markdown",
   "id": "06f01355",
   "metadata": {},
   "source": [
    "One way to find out which genres are the most popular (which have the most users) is to calculate the average number of installs for each app genre. For the Google Play dataset, we can find this information in the Installs column, but for the App Store dataset, this information is missing. To work around this problem, we will take the total number of user ratings as a proxy, which we can find in the rating_count_tot app.\n",
    "\n",
    "Below we calculate the average number of user reviews per app genre on the App Store:"
   ]
  },
  {
   "cell_type": "code",
   "execution_count": 29,
   "id": "008121ee",
   "metadata": {},
   "outputs": [
    {
     "name": "stdout",
     "output_type": "stream",
     "text": [
      "Social Networking :  71548.34905660378\n",
      "Photo & Video :  28441.54375\n",
      "Games :  22788.6696905016\n",
      "Music :  57326.530303030304\n",
      "Reference :  74942.11111111111\n",
      "Health & Fitness :  23298.015384615384\n",
      "Weather :  52279.892857142855\n",
      "Utilities :  18684.456790123455\n",
      "Travel :  28243.8\n",
      "Shopping :  26919.690476190477\n",
      "News :  21248.023255813954\n",
      "Navigation :  86090.33333333333\n",
      "Lifestyle :  16485.764705882353\n",
      "Entertainment :  14029.830708661417\n",
      "Food & Drink :  33333.92307692308\n",
      "Sports :  23008.898550724636\n",
      "Book :  39758.5\n",
      "Finance :  31467.944444444445\n",
      "Education :  7003.983050847458\n",
      "Productivity :  21028.410714285714\n",
      "Business :  7491.117647058823\n",
      "Catalogs :  4004.0\n",
      "Medical :  612.0\n"
     ]
    }
   ],
   "source": [
    "for genre in freq_table(free_ios, 11):\n",
    "    total = 0\n",
    "    len_genre = 0\n",
    "    for row in free_ios:\n",
    "        genre_app = row[11]\n",
    "        if genre_app == genre:\n",
    "            rate = float(row[5])\n",
    "            total += rate\n",
    "            len_genre += 1\n",
    "    avg_user_rating = total / len_genre\n",
    "    print(genre, ': ', avg_user_rating)"
   ]
  },
  {
   "cell_type": "markdown",
   "id": "24e4a7e7",
   "metadata": {},
   "source": [
    "We notice that navigation apps have the highest number of user reviews, but this figure is heavily influenced by Waze and Google Maps, which have nearly half a million user reviews together:"
   ]
  },
  {
   "cell_type": "code",
   "execution_count": 30,
   "id": "fcd72357",
   "metadata": {},
   "outputs": [
    {
     "name": "stdout",
     "output_type": "stream",
     "text": [
      "Waze - GPS Navigation, Maps & Real-time Traffic : 345046\n",
      "Google Maps - Navigation & Transit : 154911\n",
      "Geocaching® : 12811\n",
      "CoPilot GPS – Car Navigation & Offline Maps : 3582\n",
      "ImmobilienScout24: Real Estate Search in Germany : 187\n",
      "Railway Route Search : 5\n"
     ]
    }
   ],
   "source": [
    "for app in free_ios:\n",
    "    if app[-5] == 'Navigation':\n",
    "        print(app[1], ':', app[5])"
   ]
  },
  {
   "cell_type": "markdown",
   "id": "8643fc13",
   "metadata": {},
   "source": [
    "The same pattern applies to social media apps, where the average number is heavily influenced by a few giants like Facebook, Pinterest, Skype, etc. The same goes for music apps, where a few big players like Pandora, Spotify, and Shazam heavily influence the median number.\n",
    "\n",
    "Our goal is to find popular genres, but browsing, social media, or music apps may seem more popular than they actually are. The average number of ratings seems skewed by very few apps that have hundreds of thousands of user ratings, while other apps may struggle to get past the 10,000 threshold. We might get a better picture by removing these extremely popular apps for each genre, then reworking the averages, but we'll leave that level of detail for later.\n",
    "\n",
    "The benchmark apps have an average of 74,942 user ratings, but it's actually the Bible and Dictionary.com that skew the average rating:"
   ]
  },
  {
   "cell_type": "code",
   "execution_count": 31,
   "id": "e9875a24",
   "metadata": {},
   "outputs": [
    {
     "name": "stdout",
     "output_type": "stream",
     "text": [
      "Bible : 985920\n",
      "Dictionary.com Dictionary & Thesaurus : 200047\n",
      "Dictionary.com Dictionary & Thesaurus for iPad : 54175\n",
      "Google Translate : 26786\n",
      "Muslim Pro: Ramadan 2017 Prayer Times, Azan, Quran : 18418\n",
      "New Furniture Mods - Pocket Wiki & Game Tools for Minecraft PC Edition : 17588\n",
      "Merriam-Webster Dictionary : 16849\n",
      "Night Sky : 12122\n",
      "City Maps for Minecraft PE - The Best Maps for Minecraft Pocket Edition (MCPE) : 8535\n",
      "LUCKY BLOCK MOD ™ for Minecraft PC Edition - The Best Pocket Wiki & Mods Installer Tools : 4693\n",
      "GUNS MODS for Minecraft PC Edition - Mods Tools : 1497\n",
      "Guides for Pokémon GO - Pokemon GO News and Cheats : 826\n",
      "WWDC : 762\n",
      "Horror Maps for Minecraft PE - Download The Scariest Maps for Minecraft Pocket Edition (MCPE) Free : 718\n",
      "VPN Express : 14\n",
      "Real Bike Traffic Rider Virtual Reality Glasses : 8\n",
      "教えて!goo : 0\n",
      "Jishokun-Japanese English Dictionary & Translator : 0\n"
     ]
    }
   ],
   "source": [
    "for app in free_ios:\n",
    "    if app[-5] == 'Reference':\n",
    "        print(app[1], ':', app[5])"
   ]
  },
  {
   "cell_type": "markdown",
   "id": "8d541df8",
   "metadata": {},
   "source": [
    "One thing we could do is take another popular book and turn it into an app where we could add different features on top of the raw version of the book. This can include daily quotes from the book, an audio version of the book, quizzes about the book, etc. Besides that, we can also embed a dictionary in the app, so users don't need to leave our app to look up words in an external app.\n",
    "\n",
    "This idea seems to fit well with the fact that the App Store is dominated by entertainment apps. This suggests that the market might be a bit saturated with apps for fun, which means a handy app might have a better chance of standing out among the large number of apps on the App Store.\n",
    "\n",
    "Other genres that seem popular include weather, book, food and drink, or finance. The book genre seems to overlap a bit with the app idea we described above, but the other genres don't seem too interesting to us:\n",
    "\n",
    "Weather apps - people don't usually spend too much time in the app, and the chances of taking advantage of in-app additions are low. Also, getting reliable live weather data may require us to plug our apps into non-free APIs.\n",
    "\n",
    "Food and drink - examples here include Starbucks, Dunkin' Donuts, McDonald's, etc. Creating a popular food and drink app therefore requires cooking and delivery service, which is outside the scope of our company.\n",
    "\n",
    "Financial applications - these applications involve banking, bill paying, money transfer, etc. Building a finance app requires domain knowledge, and we don't want to hire a finance expert just to build an app.\n",
    "\n",
    "Let's now analyze the Google Play market a bit."
   ]
  },
  {
   "cell_type": "markdown",
   "id": "15033e8d",
   "metadata": {},
   "source": [
    "# Applications les plus populaires par genre sur Google Play"
   ]
  },
  {
   "cell_type": "markdown",
   "id": "67c6fc70",
   "metadata": {},
   "source": [
    "For the Google Play market, we actually have data on the number of installs, so we should be able to get a clearer picture of how popular the genre is. However, the install numbers don't seem precise enough - we can see that most of the values are open (100+, 1,000+, 5,000+, etc.):"
   ]
  },
  {
   "cell_type": "code",
   "execution_count": 32,
   "id": "26438702",
   "metadata": {},
   "outputs": [
    {
     "name": "stdout",
     "output_type": "stream",
     "text": [
      "ART_AND_DESIGN :  2003791.2280701755\n",
      "AUTO_AND_VEHICLES :  737219.4444444445\n",
      "BEAUTY :  640861.9047619047\n",
      "BOOKS_AND_REFERENCE :  10476157.264150944\n",
      "BUSINESS :  2753974.1501976284\n",
      "COMICS :  847567.9245283019\n",
      "COMMUNICATION :  47166160.384615384\n",
      "DATING :  1075582.5190839695\n",
      "EDUCATION :  3108407.079646018\n",
      "ENTERTAINMENT :  21134600.0\n",
      "EVENTS :  354431.3333333333\n",
      "FINANCE :  1574833.2179930797\n",
      "FOOD_AND_DRINK :  2300192.934782609\n",
      "HEALTH_AND_FITNESS :  4885919.051724138\n",
      "HOUSE_AND_HOME :  1565838.7096774194\n",
      "LIBRARIES_AND_DEMO :  813796.875\n",
      "LIFESTYLE :  1782802.9032258065\n",
      "GAME :  16655938.269461079\n",
      "FAMILY :  3045982.508662509\n",
      "MEDICAL :  168882.35087719298\n",
      "SOCIAL :  27302664.05472637\n",
      "SHOPPING :  7866974.382022472\n",
      "PHOTOGRAPHY :  18738970.201612905\n",
      "SPORTS :  4601628.844537815\n",
      "TRAVEL_AND_LOCAL :  16171381.56424581\n",
      "TOOLS :  12344508.658536585\n",
      "PERSONALIZATION :  6562636.9527897\n",
      "PRODUCTIVITY :  20537621.879432622\n",
      "PARENTING :  647208.5416666666\n",
      "WEATHER :  5542846.153846154\n",
      "VIDEO_PLAYERS :  27268931.944444444\n",
      "NEWS_AND_MAGAZINES :  11960046.212121213\n",
      "MAPS_AND_NAVIGATION :  4491486.25\n"
     ]
    }
   ],
   "source": [
    "for category in freq_table(free_android, 1):\n",
    "    total = 0\n",
    "    len_category = 0\n",
    "    for row in free_android:\n",
    "        category_app = row[1]\n",
    "        if category_app == category:\n",
    "            n_install = row[5]\n",
    "            n_install = n_install.replace('+', '')\n",
    "            n_install = n_install.replace(',', '')\n",
    "            n_install = float(n_install)\n",
    "            total += n_install\n",
    "            len_category += 1\n",
    "    avg_number_install = total / len_category\n",
    "    print(category, ': ', avg_number_install)"
   ]
  },
  {
   "cell_type": "markdown",
   "id": "6f186b3f",
   "metadata": {},
   "source": [
    "We notice that communication apps are the most installed: 38,456,119. This number is heavily skewed by a few apps that have over a billion installs (WhatsApp, Facebook Messenger, Skype, Google Chrome, Gmail, and Hangouts), and a few others with more than 100 and 500 million installations:"
   ]
  },
  {
   "cell_type": "code",
   "execution_count": 33,
   "id": "e8840c4c",
   "metadata": {},
   "outputs": [
    {
     "name": "stdout",
     "output_type": "stream",
     "text": [
      "Messenger – Text and Video Chat for Free : 1,000,000,000+\n",
      "WhatsApp Messenger : 1,000,000,000+\n",
      "Google Chrome: Fast & Secure : 1,000,000,000+\n",
      "Messenger Lite: Free Calls & Messages : 100,000,000+\n",
      "Gmail : 1,000,000,000+\n",
      "Hangouts : 1,000,000,000+\n",
      "Viber Messenger : 500,000,000+\n",
      "Firefox Browser fast & private : 100,000,000+\n",
      "Yahoo Mail – Stay Organized : 100,000,000+\n",
      "imo beta free calls and text : 100,000,000+\n",
      "imo free video calls and chat : 500,000,000+\n",
      "Opera Mini - fast web browser : 100,000,000+\n",
      "Opera Browser: Fast and Secure : 100,000,000+\n",
      "Who : 100,000,000+\n",
      "WeChat : 100,000,000+\n",
      "UC Browser Mini -Tiny Fast Private & Secure : 100,000,000+\n",
      "Android Messages : 100,000,000+\n",
      "Telegram : 100,000,000+\n",
      "Google Duo - High Quality Video Calls : 500,000,000+\n",
      "UC Browser - Fast Download Private & Secure : 500,000,000+\n",
      "Skype - free IM & video calls : 1,000,000,000+\n",
      "GO SMS Pro - Messenger, Free Themes, Emoji : 100,000,000+\n",
      "LINE: Free Calls & Messages : 500,000,000+\n",
      "BBM - Free Calls & Messages : 100,000,000+\n",
      "KakaoTalk: Free Calls & Text : 100,000,000+\n",
      "Truecaller: Caller ID, SMS spam blocking & Dialer : 100,000,000+\n",
      "Kik : 100,000,000+\n"
     ]
    }
   ],
   "source": [
    "for app in free_android:\n",
    "    if app[1] == 'COMMUNICATION' and (app[5] == '1,000,000,000+'\n",
    "                                      or app[5] == '500,000,000+'\n",
    "                                      or app[5] == '100,000,000+'):\n",
    "        print(app[0], ':', app[5])"
   ]
  },
  {
   "cell_type": "markdown",
   "id": "b19bfb62",
   "metadata": {},
   "source": [
    "If we remove all communication apps that have more than 100 million installs, the average would be reduced by about ten times:"
   ]
  },
  {
   "cell_type": "code",
   "execution_count": 34,
   "id": "c120a467",
   "metadata": {},
   "outputs": [
    {
     "data": {
      "text/plain": [
       "4525997.729468599"
      ]
     },
     "execution_count": 34,
     "metadata": {},
     "output_type": "execute_result"
    }
   ],
   "source": [
    "under_100_m = []\n",
    "\n",
    "for app in free_android:\n",
    "    n_installs = app[5]\n",
    "    n_installs = n_installs.replace(',', '')\n",
    "    n_installs = n_installs.replace('+', '')\n",
    "    if (app[1] == 'COMMUNICATION') and (float(n_installs) < 100000000):\n",
    "        under_100_m.append(float(n_installs))\n",
    "        \n",
    "sum(under_100_m) / len(under_100_m)"
   ]
  },
  {
   "cell_type": "markdown",
   "id": "9ee90aad",
   "metadata": {},
   "source": [
    "We see the same pattern for the video player category, which is the runner-up with 24,727,872 installs. The market is dominated by applications such as Youtube, Google Play Movies & TV or MX Player. The pattern is repeated for social apps (where we have giants like Facebook, Instagram, Google+, etc.), photography apps (Google Photos and other popular photo editors) or productivity apps (Microsoft Word, Dropbox, Google Calendar, Evernote, etc.).\n",
    "\n",
    "Again, the main concern is that these kinds of apps may seem more popular than they actually are. Moreover, these niches seem to be dominated by a few giants that are hard to compete with.\n",
    "\n",
    "The game genre seems quite popular, but we previously discovered that this part of the market seems a bit saturated, so we'd like to offer a different app recommendation if possible.\n",
    "\n",
    "The books and reference genre also seems quite popular, with an average install count of 8,767,811. It's worth exploring this in more depth, as we've found that this genre has some potential to perform well on the App Store, and our goal is to recommend a genre of app that has potential for earning on both the App Store and Google Play.\n",
    "\n",
    "Let's take a look at some of the apps of this genre and their number of installs:"
   ]
  },
  {
   "cell_type": "code",
   "execution_count": 35,
   "id": "d69033a3",
   "metadata": {},
   "outputs": [
    {
     "name": "stdout",
     "output_type": "stream",
     "text": [
      "Wattpad 📖 Free Books : 100,000,000+\n",
      "E-Book Read - Read Book for free : 50,000+\n",
      "Download free book with green book : 100,000+\n",
      "Wikipedia : 10,000,000+\n",
      "Amazon Kindle : 100,000,000+\n",
      "Cool Reader : 10,000,000+\n",
      "Dictionary - Merriam-Webster : 10,000,000+\n",
      "NOOK: Read eBooks & Magazines : 10,000,000+\n",
      "Free Panda Radio Music : 100,000+\n",
      "Book store : 1,000,000+\n",
      "FBReader: Favorite Book Reader : 10,000,000+\n",
      "English Grammar Complete Handbook : 500,000+\n",
      "Free Books - Spirit Fanfiction and Stories : 1,000,000+\n",
      "Google Play Books : 1,000,000,000+\n",
      "AlReader -any text book reader : 5,000,000+\n",
      "Offline English Dictionary : 100,000+\n",
      "Oxford Dictionary of English : Free : 10,000,000+\n",
      "Offline: English to Tagalog Dictionary : 500,000+\n",
      "Spanish English Translator : 10,000,000+\n",
      "FamilySearch Tree : 1,000,000+\n",
      "Cloud of Books : 1,000,000+\n",
      "Recipes of Prophetic Medicine for free : 500,000+\n",
      "ReadEra – free ebook reader : 1,000,000+\n",
      "NOOK App for NOOK Devices : 500,000+\n",
      "Ebook Reader : 5,000,000+\n",
      "Litnet - E-books : 100,000+\n",
      "Read books online : 5,000,000+\n",
      "English to Urdu Dictionary : 500,000+\n",
      "eBoox: book reader fb2 epub zip : 1,000,000+\n",
      "English Persian Dictionary : 500,000+\n",
      "Flybook : 500,000+\n",
      "All Maths Formulas : 1,000,000+\n",
      "Ancestry : 5,000,000+\n",
      "HTC Help : 10,000,000+\n",
      "English translation from Bengali : 100,000+\n",
      "Pdf Book Download - Read Pdf Book : 100,000+\n",
      "Free Book Reader : 100,000+\n",
      "eBoox new: Reader for fb2 epub zip books : 50,000+\n",
      "Only 30 days in English, the guideline is guaranteed : 500,000+\n",
      "Moon+ Reader : 10,000,000+\n",
      "English-Myanmar Dictionary : 1,000,000+\n",
      "Golden Dictionary (EN-AR) : 1,000,000+\n",
      "All Language Translator Free : 1,000,000+\n",
      "Azpen eReader : 500,000+\n",
      "English Dictionary - Offline : 10,000,000+\n",
      "Bible : 100,000,000+\n",
      "C Programs and Reference : 50,000+\n",
      "C Offline Tutorial : 1,000+\n",
      "C Programs Handbook : 50,000+\n",
      "Aab e Hayat Full Novel : 100,000+\n",
      "Aldiko Book Reader : 10,000,000+\n",
      "Google I/O 2018 : 500,000+\n",
      "R Language Reference Guide : 10,000+\n",
      "R Programing Offline Tutorial : 1,000+\n",
      "V Made : 100,000+\n",
      "Dictionary - WordWeb : 5,000,000+\n",
      "Guide (for X-MEN) : 100,000+\n",
      "AC Air condition Troubleshoot,Repair,Maintenance : 5,000+\n",
      "AE Bulletins : 1,000+\n",
      "Ae Allah na Dai (Rasa) : 10,000+\n",
      "50000 Free eBooks & Free AudioBooks : 5,000,000+\n",
      "Ag PhD Field Guide : 10,000+\n",
      "Ag PhD Deficiencies : 10,000+\n",
      "Fertilizer Removal By Crop : 50,000+\n",
      "Al-Quran (Free) : 10,000,000+\n",
      "Al Quran (Tafsir & by Word) : 500,000+\n",
      "Al Quran Indonesia : 10,000,000+\n",
      "Al'Quran Bahasa Indonesia : 10,000,000+\n",
      "Al Quran Al karim : 1,000,000+\n",
      "Al-Muhaffiz : 50,000+\n",
      "Al Quran : EAlim - Translations & MP3 Offline : 5,000,000+\n",
      "Al-Quran 30 Juz free copies : 500,000+\n",
      "Koran Read &MP3 30 Juz Offline : 1,000,000+\n",
      "Hafizi Quran 15 lines per page : 1,000,000+\n",
      "Quran for Android : 10,000,000+\n",
      "Surah Al-Waqiah : 100,000+\n",
      "Hisnul Al Muslim - Hisn Invocations & Adhkaar : 100,000+\n",
      "Satellite AR : 1,000,000+\n",
      "Audiobooks from Audible : 100,000,000+\n",
      "Kinot & Eichah for Tisha B'Av : 10,000+\n",
      "AW Tozer Devotionals - Daily : 5,000+\n",
      "Tozer Devotional -Series 1 : 1,000+\n",
      "The Pursuit of God : 1,000+\n",
      "AY Sing : 5,000+\n",
      "Ay Hasnain k Nana Milad Naat : 10,000+\n",
      "Ay Mohabbat Teri Khatir Novel : 10,000+\n",
      "Arizona Statutes, ARS (AZ Law) : 1,000+\n",
      "Oxford A-Z of English Usage : 1,000,000+\n",
      "BD Fishpedia : 1,000+\n",
      "BD All Sim Offer : 10,000+\n",
      "Youboox - Livres, BD et magazines : 500,000+\n",
      "B&H Kids AR : 10,000+\n",
      "B y H Niños ES : 5,000+\n",
      "Dictionary.com: Find Definitions for English Words : 10,000,000+\n",
      "Bible KJV : 5,000,000+\n",
      "Borneo Bible, BM Bible : 10,000+\n",
      "BM Box : 1,000+\n",
      "NOOK Audiobooks : 500,000+\n",
      "Browsery by Barnes & Noble : 5,000+\n",
      "bp e-store : 1,000+\n",
      "Brilliant Quotes: Life, Love, Family & Motivation : 1,000,000+\n",
      "BR Ambedkar Biography & Quotes : 10,000+\n",
      "Catholic La Bu Zo Kam : 500+\n",
      "Kristian Hla Bu : 10,000+\n",
      "SA HLA BU : 1,000+\n",
      "CA Laws 2018 (California Laws and Codes) : 5,000+\n",
      "Bootable Methods(USB-CD-DVD) : 10,000+\n",
      "cloudLibrary : 100,000+\n",
      "SDA Collegiate Quarterly : 500+\n",
      "Sabbath School : 100,000+\n",
      "Stats Royale for Clash Royale : 1,000,000+\n",
      "Learn CT Scan Of Head : 5,000+\n",
      "Easy Cv maker 2018 : 10,000+\n",
      "How to Write CV : 100,000+\n",
      "CW Nuclear : 1,000+\n",
      "CZ-Help : 5+\n",
      "Guide for DB Xenoverse : 10,000+\n",
      "Guide for DB Xenoverse 2 : 10,000+\n",
      "DC HSEMA : 5,000+\n",
      "DC Public Library : 1,000+\n",
      "Dictionary : 10,000,000+\n",
      "Fix Error Google Playstore : 1,000+\n",
      "Bilingual Dictionary Audio App : 5,000+\n",
      "DM Screen : 10,000+\n",
      "wikiHow: how to do anything : 1,000,000+\n",
      "Dr. Doug's Tips : 1,000+\n",
      "Bible du Semeur-BDS (French) : 50,000+\n",
      "La citadelle du musulman : 50,000+\n",
      "DV 2019 Entry Guide : 10,000+\n",
      "DV 2019 - EDV Photo & Form : 50,000+\n",
      "DV 2018 Winners Guide : 1,000+\n",
      "EB Annual Meetings : 1,000+\n",
      "EC - AP & Telangana : 5,000+\n",
      "TN Patta Citta & EC : 10,000+\n",
      "AP Stamps and Registration : 10,000+\n",
      "EGW Writings 2 : 100,000+\n",
      "EGW Writings : 1,000,000+\n",
      "Bible with EGW Comments : 100,000+\n",
      "My Little Pony AR Guide : 1,000,000+\n",
      "SDA Sabbath School Quarterly : 500,000+\n",
      "Duaa Ek Ibaadat : 5,000+\n",
      "JW Library : 10,000,000+\n",
      "English Hindi Dictionary : 10,000,000+\n",
      "English to Hindi Dictionary : 5,000,000+\n",
      "EP Research Service : 1,000+\n",
      "Hymnes et Louanges : 100,000+\n",
      "EU Charter : 1,000+\n",
      "EU Data Protection : 1,000+\n",
      "BakaReader EX : 100,000+\n",
      "EZ Quran : 50,000+\n",
      "FA Part 1 & 2 Past Papers Solved Free – Offline : 5,000+\n",
      "Florida - Pocket Brainbook : 1,000+\n",
      "Florida Statutes (FL Code) : 1,000+\n",
      "English To Shona Dictionary : 10,000+\n",
      "Golden Dictionary (FR-AR) : 500,000+\n",
      "Fanfic-FR : 5,000+\n",
      "Bulgarian French Dictionary Fr : 10,000+\n",
      "Chemin (fr) : 1,000+\n",
      "The SCP Foundation DB fr nn5n : 1,000+\n"
     ]
    }
   ],
   "source": [
    "for app in free_android:\n",
    "    if app[1] == 'BOOKS_AND_REFERENCE':\n",
    "        print(app[0], ':', app[5])"
   ]
  },
  {
   "cell_type": "markdown",
   "id": "b941d001",
   "metadata": {},
   "source": [
    "However, it seems that there are only a few very popular apps, so this market still shows potential. Let's try to come up with app ideas based on the type of apps that fall somewhere in the middle in terms of popularity (between 1,000,000 and 100,000,000 downloads): However, there seem to be only a few very popular apps , so this market still shows potential. Let's try to come up with app ideas based on the type of apps that fall somewhere in the middle in terms of popularity (between 1,000,000 and 100,000,000 downloads):"
   ]
  },
  {
   "cell_type": "code",
   "execution_count": 36,
   "id": "d60328ed",
   "metadata": {},
   "outputs": [
    {
     "name": "stdout",
     "output_type": "stream",
     "text": [
      "Wikipedia : 10,000,000+\n",
      "Cool Reader : 10,000,000+\n",
      "Dictionary - Merriam-Webster : 10,000,000+\n",
      "NOOK: Read eBooks & Magazines : 10,000,000+\n",
      "Book store : 1,000,000+\n",
      "FBReader: Favorite Book Reader : 10,000,000+\n",
      "Free Books - Spirit Fanfiction and Stories : 1,000,000+\n",
      "AlReader -any text book reader : 5,000,000+\n",
      "Oxford Dictionary of English : Free : 10,000,000+\n",
      "Spanish English Translator : 10,000,000+\n",
      "FamilySearch Tree : 1,000,000+\n",
      "Cloud of Books : 1,000,000+\n",
      "ReadEra – free ebook reader : 1,000,000+\n",
      "Ebook Reader : 5,000,000+\n",
      "Read books online : 5,000,000+\n",
      "eBoox: book reader fb2 epub zip : 1,000,000+\n",
      "All Maths Formulas : 1,000,000+\n",
      "Ancestry : 5,000,000+\n",
      "HTC Help : 10,000,000+\n",
      "Moon+ Reader : 10,000,000+\n",
      "English-Myanmar Dictionary : 1,000,000+\n",
      "Golden Dictionary (EN-AR) : 1,000,000+\n",
      "All Language Translator Free : 1,000,000+\n",
      "English Dictionary - Offline : 10,000,000+\n",
      "Aldiko Book Reader : 10,000,000+\n",
      "Dictionary - WordWeb : 5,000,000+\n",
      "50000 Free eBooks & Free AudioBooks : 5,000,000+\n",
      "Al-Quran (Free) : 10,000,000+\n",
      "Al Quran Indonesia : 10,000,000+\n",
      "Al'Quran Bahasa Indonesia : 10,000,000+\n",
      "Al Quran Al karim : 1,000,000+\n",
      "Al Quran : EAlim - Translations & MP3 Offline : 5,000,000+\n",
      "Koran Read &MP3 30 Juz Offline : 1,000,000+\n",
      "Hafizi Quran 15 lines per page : 1,000,000+\n",
      "Quran for Android : 10,000,000+\n",
      "Satellite AR : 1,000,000+\n",
      "Oxford A-Z of English Usage : 1,000,000+\n",
      "Dictionary.com: Find Definitions for English Words : 10,000,000+\n",
      "Bible KJV : 5,000,000+\n",
      "Brilliant Quotes: Life, Love, Family & Motivation : 1,000,000+\n",
      "Stats Royale for Clash Royale : 1,000,000+\n",
      "Dictionary : 10,000,000+\n",
      "wikiHow: how to do anything : 1,000,000+\n",
      "EGW Writings : 1,000,000+\n",
      "My Little Pony AR Guide : 1,000,000+\n",
      "JW Library : 10,000,000+\n",
      "English Hindi Dictionary : 10,000,000+\n",
      "English to Hindi Dictionary : 5,000,000+\n"
     ]
    }
   ],
   "source": [
    "for app in free_android:\n",
    "    if app[1] == 'BOOKS_AND_REFERENCE' and (app[5] == '1,000,000+'\n",
    "                                            or app[5] == '5,000,000+'\n",
    "                                            or app[5] == '10,000,000+'\n",
    "                                            or app[5] == '50,000,000+'):\n",
    "        print(app[0], ':', app[5])"
   ]
  },
  {
   "cell_type": "markdown",
   "id": "20d868be",
   "metadata": {},
   "source": [
    "This type seems to be dominated by software for processing and reading e-books, as well as various library and dictionary collections, so it's probably not a good idea to build similar applications as there will be significant competition .\n",
    "\n",
    "We also notice that there are many apps built around the Quran book, which suggests that building an app around a popular book can be profitable. It seems that taking a popular book (perhaps a newer book) and turning it into an app could be profitable for the Google Play and App Store marketplaces.\n",
    "\n",
    "However, it seems that the market is already full of libraries, so we need to add some special features besides the raw version of the book. This can include daily quotes from the book, an audio version of the book, quizzes about the book, a forum where people can discuss the book, etc."
   ]
  },
  {
   "cell_type": "markdown",
   "id": "05b4d31c",
   "metadata": {},
   "source": [
    "# Conclusion"
   ]
  },
  {
   "cell_type": "markdown",
   "id": "8965c5c3",
   "metadata": {},
   "source": [
    "In this project, we analyzed data on the App Store and Google Play mobile apps with the aim of recommending an app profile that can be profitable for both markets.\n",
    "\n",
    "We concluded that taking a popular book (perhaps a newer book) and turning it into an app could be profitable for the Google Play and App Store marketplaces. The marketplaces are already full of libraries, so we need to add special features on top of the raw version of the book. This can include daily quotes from the book, an audio version of the book, quizzes about the book, a forum where people can discuss the book, etc."
   ]
  }
 ],
 "metadata": {
  "kernelspec": {
   "display_name": "Python 3 (ipykernel)",
   "language": "python",
   "name": "python3"
  },
  "language_info": {
   "codemirror_mode": {
    "name": "ipython",
    "version": 3
   },
   "file_extension": ".py",
   "mimetype": "text/x-python",
   "name": "python",
   "nbconvert_exporter": "python",
   "pygments_lexer": "ipython3",
   "version": "3.9.12"
  }
 },
 "nbformat": 4,
 "nbformat_minor": 5
}
